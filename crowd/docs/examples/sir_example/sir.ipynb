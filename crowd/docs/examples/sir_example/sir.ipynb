{
 "cells": [
  {
   "cell_type": "markdown",
   "metadata": {},
   "source": [
    "## Introduction to Crowd\n",
    "\n",
    "*Crowd* is a social network simulation framework which simplifies and fastens the process of developing agent-based models and simulations on networks. In this notebook, we walk through the steps of developing a basic simulation with Crowd, using an SIR (Susceptible-Infected-Recovered) model, commonly utilized as a base model in epidemiological studies."
   ]
  },
  {
   "cell_type": "markdown",
   "metadata": {},
   "source": [
    "#### 1. Create or load a project\n",
    "\n",
    "In Crowd, simulation settings, datasets and results are stored in a Project structure. As the first step, we import the Project class from the *project_management* module."
   ]
  },
  {
   "cell_type": "code",
   "execution_count": 4,
   "metadata": {},
   "outputs": [],
   "source": [
    "from crowd.project_management.project import Project"
   ]
  },
  {
   "cell_type": "markdown",
   "metadata": {},
   "source": [
    "To start defining a simulation, we can either create a new project or load an existing one. Creating a project requires entering a name, a date, and a quick summary about the project's topic. \n",
    "\n",
    "Last parameter *node* denotes that this is a simulation where we are interested in the changes of nodes. The other option is *edge*, which denotes simulations where edges are modified. "
   ]
  },
  {
   "cell_type": "code",
   "execution_count": null,
   "metadata": {},
   "outputs": [
    {
     "name": "stdout",
     "output_type": "stream",
     "text": [
      "Creating random regular graph\n",
      "Returning G--> Graph with 100 nodes and 200 edges\n",
      "TO-DO: is it possible to give user more options\n"
     ]
    }
   ],
   "source": [
    "project_name = \"simplediffusion\"\n",
    "creation_date = \"19/10/2024\"\n",
    "info = \"Diffusion of a virus on a random network\"\n",
    "\n",
    "my_project = Project()\n",
    "\n",
    "# Create a new project\n",
    "my_project.create_project(project_name, creation_date, info, \"node\")\n",
    "\n",
    "# OR load previous project \n",
    "#my_project.load_project(project_name)"
   ]
  },
  {
   "cell_type": "markdown",
   "metadata": {},
   "source": [
    "Alternatively, we can use Crowd's GUI to configure and run our simulations. The project creation screen is provided below.\n",
    "\n",
    "<img src=\"./images/project_creation.png\" alt=\"project_creation\">"
   ]
  },
  {
   "cell_type": "markdown",
   "metadata": {},
   "source": [
    "#### 2. Modify configuration\n",
    "\n",
    "Crowd employs a configuration file approach to define the simulation settings. This can be done by either modifying the YAML file directly, or using the buttons and selectors in the GUI. \n",
    "\n",
    "We will first go over how to construct the YAML file. After the creation of a project, *conf.yaml* file is added automatically on the Project folder. That file itself can be modified, or contents of another file can be copied. We have *sir.yaml* file located in the same directory with this Jupyter notebook, which we will copy its contents, using the following code:"
   ]
  },
  {
   "cell_type": "code",
   "execution_count": null,
   "metadata": {},
   "outputs": [],
   "source": [
    "import os\n",
    "\n",
    "conf_path = os.path.join(os.path.dirname(__file__), 'sir.yaml')\n",
    "my_project.update_conf_with_path(conf_path)"
   ]
  },
  {
   "cell_type": "markdown",
   "metadata": {},
   "source": [
    "Now, we inspect the contents of the configuration file:\n",
    "\n",
    "```yaml\n",
    "name: SIR-example\n",
    "structure:\n",
    "  random:\n",
    "    count: 100\n",
    "    degree: 4\n",
    "    type: random-regular\n",
    "definitions:\n",
    "  pd-model:\n",
    "    name: diffusion\n",
    "    nodetypes:\n",
    "      Susceptible:\n",
    "        random-with-weight:\n",
    "          initial-weight: 0.9\n",
    "      Infected:\n",
    "        random-with-weight:\n",
    "          initial-weight: 0.1\n",
    "      Recovered:\n",
    "        random-with-weight:\n",
    "          initial-weight: 0\n",
    "    node-parameters:\n",
    "      numerical:\n",
    "        age:\n",
    "          - 0\n",
    "          - 100\n",
    "    compartments:\n",
    "      c1:\n",
    "        ratio: 0.1\n",
    "        triggering_status: Infected\n",
    "        type: node-stochastic\n",
    "      c2:\n",
    "        iteration-count: 4\n",
    "        name: healing\n",
    "        type: count-down\n",
    "    rules:\n",
    "      r1:\n",
    "        - Susceptible\n",
    "        - Infected\n",
    "        - c1\n",
    "      r2:\n",
    "        - Infected\n",
    "        - Recovered\n",
    "        - c2"
   ]
  },
  {
   "cell_type": "markdown",
   "metadata": {},
   "source": [
    "<b>Explanation of each property:</b>\n",
    "\n",
    "*name*: This name can later be used in GUI to search for this simulation, so it is useful to pick a meaningful name.\n",
    "\n",
    "*structure*: Describes how the network will be initialized. Crowd supports reading networks from csv and edgelist files, while providing various network generators from NetworkX and igraph-python libraries. In this example, we choose to generate a random regular network (type), with 100 nodes (count) and each node having a constant degree of 4 (degree).\n",
    "\n",
    "*definitions*: Holds properties for the network initialization and (optionally) the simulation logic (compartments and rules).\n",
    "\n",
    "*pd-model*: Means we want to use a predefined model in our simulation. We do not include this keyword for custom simulations.\n",
    "\n",
    "*name: diffusion*: Specifying that we want to use DiffusionNetwork model of Crowd.\n",
    "\n",
    "*nodetypes*: Defining each node type for our model and their initialization methods. For this example, we choose (0.9 * node_count) nodes as Susceptible initially. \n",
    "\n",
    "*node-parameters*: Can be numerical or categorical. We define each parameter by giving a name. For numerical parameters, Crowd assigns each node a value between [lower-bound, upper-bound] provided. For categorical parameters, a list of possible categories should be given. Alternatively, users can specify a file path to read the values from.\n",
    "\n",
    "*compartments*: Rule-bits that we use to specify the conditions of a node state change. This feature is based on <a href=\"https://ndlib.readthedocs.io/en/latest/custom/custom.html\">Network Diffusion Library (NDLib)</a> and is integrated into only DiffusionNetwork model. More information about each compartment type can be found on the given link.\n",
    "\n",
    "*rules*: Consists of: (a) current state of the node, (b) state to move, (c) compartment to use."
   ]
  },
  {
   "cell_type": "markdown",
   "metadata": {},
   "source": [
    "<b>Explanation of this simulation's rules:</b> \n",
    "\n",
    "*r1:* If a node is susceptible, execute c1. If this\n",
    "node has any Infected neighbors (triggering status), with a\n",
    "probability of 0.1 (ratio), the node switches from Susceptible\n",
    "to Infected state.\n",
    "\n",
    "*r2:* describes the Infected to Recovered\n",
    "sequence, which is described with a countdown compartment.\n",
    "This means that after 4 iterations, the node will switch states."
   ]
  },
  {
   "cell_type": "markdown",
   "metadata": {},
   "source": [
    "Alternatively, we can use Crowd's GUI to set these parameters: \n",
    "\n",
    "<img src=\"./images/simulation-settings.png\" alt=\"simulation-settings\" width=\"300\">\n",
    "<img src=\"./images/data-source.png\" alt=\"data-source\" width=\"300\">\n",
    "\n",
    "<br>\n",
    "\n",
    "<img src=\"./images/add-nodetype.png\" alt=\"add-nodetype\" width=\"300\">\n",
    "<img src=\"./images/nodetype-list.png\" alt=\"nodetype-list\" width=\"300\">"
   ]
  },
  {
   "cell_type": "markdown",
   "metadata": {},
   "source": [
    "#### 3. Define custom methods and run simulation"
   ]
  },
  {
   "cell_type": "code",
   "execution_count": 7,
   "metadata": {},
   "outputs": [],
   "source": [
    "# 2. Define the custom methods you wish to run\n",
    "\n",
    "# returns the percentage of infected nodes in every snapshot\n",
    "def get_percentage_infected(network):\n",
    "    print(network.node_count)\n",
    "    return (network.node_count[1] /network.G.number_of_nodes()) * 100"
   ]
  },
  {
   "cell_type": "code",
   "execution_count": 8,
   "metadata": {},
   "outputs": [
    {
     "name": "stdout",
     "output_type": "stream",
     "text": [
      "{0: 86, 1: 14, 2: 0}\n",
      "{0: 81, 1: 19, 2: 0}\n",
      "{0: 75, 1: 25, 2: 0}\n",
      "{0: 73, 1: 27, 2: 0}\n",
      "{0: 67, 1: 23, 2: 10}\n",
      "{0: 65, 1: 21, 2: 14}\n",
      "{0: 60, 1: 21, 2: 19}\n",
      "{0: 55, 1: 20, 2: 25}\n",
      "{0: 50, 1: 23, 2: 27}\n",
      "{0: 46, 1: 21, 2: 33}\n",
      "{0: 42, 1: 23, 2: 35}\n",
      "{0: 38, 1: 22, 2: 40}\n",
      "{0: 37, 1: 18, 2: 45}\n",
      "{0: 34, 1: 16, 2: 50}\n",
      "{0: 34, 1: 12, 2: 54}\n",
      "{0: 33, 1: 9, 2: 58}\n",
      "{0: 31, 1: 7, 2: 62}\n",
      "{0: 31, 1: 6, 2: 63}\n",
      "{0: 30, 1: 4, 2: 66}\n",
      "{0: 29, 1: 5, 2: 66}\n",
      "{0: 29, 1: 4, 2: 67}\n",
      "{0: 29, 1: 2, 2: 69}\n",
      "{0: 28, 1: 3, 2: 69}\n",
      "{0: 28, 1: 2, 2: 70}\n",
      "{0: 28, 1: 1, 2: 71}\n",
      "{0: 28, 1: 1, 2: 71}\n",
      "{0: 27, 1: 2, 2: 71}\n",
      "{0: 27, 1: 1, 2: 72}\n",
      "{0: 27, 1: 1, 2: 72}\n",
      "{0: 27, 1: 1, 2: 72}\n",
      "{0: 26, 1: 2, 2: 72}\n",
      "{0: 26, 1: 1, 2: 73}\n",
      "{0: 25, 1: 2, 2: 73}\n",
      "{0: 25, 1: 2, 2: 73}\n",
      "{0: 24, 1: 3, 2: 73}\n",
      "{0: 24, 1: 2, 2: 74}\n",
      "{0: 24, 1: 2, 2: 74}\n",
      "{0: 24, 1: 1, 2: 75}\n",
      "{0: 24, 1: 1, 2: 75}\n",
      "{0: 24, 1: 0, 2: 76}\n",
      "{0: 24, 1: 0, 2: 76}\n",
      "{0: 24, 1: 0, 2: 76}\n",
      "{0: 24, 1: 0, 2: 76}\n",
      "{0: 24, 1: 0, 2: 76}\n",
      "{0: 24, 1: 0, 2: 76}\n",
      "{0: 24, 1: 0, 2: 76}\n",
      "{0: 24, 1: 0, 2: 76}\n",
      "{0: 24, 1: 0, 2: 76}\n",
      "{0: 24, 1: 0, 2: 76}\n"
     ]
    }
   ],
   "source": [
    "# 3. Run the simulation\n",
    "my_project.lib_run_simulation(epochs=50,\n",
    "                              snapshot_period=5,\n",
    "                              curr_batch=1,\n",
    "                              after_iteration_methods=[get_percentage_infected])"
   ]
  }
 ],
 "metadata": {
  "kernelspec": {
   "display_name": "Python 3",
   "language": "python",
   "name": "python3"
  },
  "language_info": {
   "codemirror_mode": {
    "name": "ipython",
    "version": 3
   },
   "file_extension": ".py",
   "mimetype": "text/x-python",
   "name": "python",
   "nbconvert_exporter": "python",
   "pygments_lexer": "ipython3",
   "version": "3.12.3"
  }
 },
 "nbformat": 4,
 "nbformat_minor": 2
}
